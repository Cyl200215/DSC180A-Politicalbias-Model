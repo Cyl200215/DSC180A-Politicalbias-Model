{
 "cells": [
  {
   "cell_type": "code",
   "execution_count": 5,
   "id": "fd13dc76",
   "metadata": {},
   "outputs": [],
   "source": [
    "import torch\n",
    "import torch.nn as nn\n",
    "from transformers import BertTokenizer, BertForSequenceClassification, AdamW\n",
    "\n",
    "import NER_sentiment"
   ]
  },
  {
   "cell_type": "code",
   "execution_count": 47,
   "id": "79a4fb82",
   "metadata": {},
   "outputs": [],
   "source": [
    "loaded_model = BertForSequenceClassification.from_pretrained('bias_bert_model').to(device)\n",
    "loaded_tokenizer = BertTokenizer.from_pretrained('bias_bert_model')"
   ]
  },
  {
   "cell_type": "code",
   "execution_count": 44,
   "id": "0a4957a6",
   "metadata": {},
   "outputs": [],
   "source": [
    "device = torch.device('cuda') if torch.cuda.is_available() else torch.device('cpu')\n"
   ]
  },
  {
   "cell_type": "code",
   "execution_count": 67,
   "id": "82b323dc",
   "metadata": {},
   "outputs": [],
   "source": [
    "def vectorize(claim):\n",
    "    tokenized = loaded_tokenizer(claim, padding='max_length', truncation=True, max_length=512, return_tensors='pt')\n",
    "    \n",
    "\n",
    "    input_ids = tokenized['input_ids'].to(device)\n",
    "    attention_mask = tokenized['attention_mask'].to(device)\n",
    "    token_type_ids = tokenized['token_type_ids'].to(device) if 'token_type_ids' in tokenized else None\n",
    "    \n",
    "\n",
    "    with torch.no_grad():\n",
    "        outputs = loaded_model(input_ids=input_ids, attention_mask=attention_mask, token_type_ids=token_type_ids)\n",
    "        logits = outputs.logits\n",
    "        prediction= torch.argmax(logits, dim=-1).cpu()\n",
    "\n",
    "    \n",
    "    \n",
    "    sentiment = NER_sentiment.get_sentiment(claim)\n",
    "    \n",
    "    return [prediction.item(), sentiment]"
   ]
  },
  {
   "cell_type": "markdown",
   "id": "3e2c0ac4",
   "metadata": {},
   "source": [
    "# Classification"
   ]
  },
  {
   "cell_type": "code",
   "execution_count": 95,
   "id": "97626d10",
   "metadata": {},
   "outputs": [],
   "source": [
    "from sklearn.model_selection import train_test_split\n",
    "from sklearn.preprocessing import StandardScaler\n",
    "from sklearn.feature_extraction.text import TfidfVectorizer\n",
    "from sklearn.datasets import make_moons, make_circles, make_classification\n",
    "from sklearn.neural_network import MLPClassifier\n",
    "from sklearn.neighbors import KNeighborsClassifier\n",
    "from sklearn.svm import SVC\n",
    "from sklearn.gaussian_process import GaussianProcessClassifier\n",
    "from sklearn.gaussian_process.kernels import RBF\n",
    "from sklearn.tree import DecisionTreeClassifier\n",
    "from sklearn.ensemble import RandomForestClassifier, AdaBoostClassifier\n",
    "from sklearn.naive_bayes import GaussianNB\n",
    "from sklearn.discriminant_analysis import QuadraticDiscriminantAnalysis\n",
    "\n",
    "import os\n",
    "import pandas as pd"
   ]
  },
  {
   "cell_type": "code",
   "execution_count": 80,
   "id": "d5eebc95",
   "metadata": {},
   "outputs": [],
   "source": [
    "current_directory = os.getcwd()\n",
    "\n",
    "parent = os.path.join(current_directory, '..')\n",
    "\n",
    "# Specify the file name in the parent directory\n",
    "fp = os.path.join(parent, 'liar_plus/train2.tsv')"
   ]
  },
  {
   "cell_type": "code",
   "execution_count": 99,
   "id": "dc833440",
   "metadata": {},
   "outputs": [],
   "source": [
    "df = pd.read_csv(fp, delimiter='\\t', header = None)\n",
    "\n",
    "df = df.drop(columns = [0])\n",
    "\n",
    "\n",
    "df.rename({1: 'id', 2: 'label', 3: 'statement', 4: 'subject', 5: 'speaker', 6: 'job-title',\n",
    "           7: 'state_info', 8: 'party_affiliation', 9: 'barely_true_counts', 10: 'false_counts',\n",
    "           11: 'half_true_counts', 12: 'mostly_true_counts', 13: 'pants_on_fire_counts', 14: 'context',\n",
    "           15: 'justification'\n",
    "          }, axis = 1, inplace = True)\n",
    "\n",
    "df = df[~df['statement'].isna()]\n",
    "\n",
    "uninformative = {'organization', 'newsmaker', 'activist', 'state-official', 'government-body',\n",
    "'journalist', 'columnist', 'talk-show-host', 'education-official', 'business-leader', \n",
    " 'Moderate', 'democratic-farmer-labor', 'ocean-state-tea-party-action', 'none', 'labor-leader' }\n",
    "\n",
    "df_bias = df[~df['party_affiliation'].isin(uninformative)]\n",
    "df_bias = df_bias[~df_bias['party_affiliation'].isna()]"
   ]
  },
  {
   "cell_type": "code",
   "execution_count": 103,
   "id": "37a1b732",
   "metadata": {},
   "outputs": [],
   "source": [
    "df_bias['party_affiliation'].replace({'republican': 0, 'democrat': 2, 'independent': 1, 'libertarian': 0,\n",
    "       'tea-party-member': 0, 'green': 2, 'liberal-party-canada': 1,\n",
    "       'constitution-party': 0}, inplace = True)"
   ]
  },
  {
   "cell_type": "code",
   "execution_count": 85,
   "id": "87533013",
   "metadata": {},
   "outputs": [],
   "source": [
    "df['vectorized'] = df['statement'].apply(vectorize)"
   ]
  },
  {
   "cell_type": "code",
   "execution_count": 89,
   "id": "659a9a40",
   "metadata": {},
   "outputs": [],
   "source": [
    "X, y = df['vectorized'].to_list(), df['label']\n",
    "\n",
    "\n",
    "X_train, X_test, y_train, y_test = (\n",
    "    train_test_split(X, y, test_size=.2)\n",
    ")"
   ]
  },
  {
   "cell_type": "code",
   "execution_count": 96,
   "id": "6eca0896",
   "metadata": {},
   "outputs": [
    {
     "name": "stdout",
     "output_type": "stream",
     "text": [
      "KNeighborsClassifier(n_neighbors=2)\n",
      "Classifier = Nearest Neighbors, Score (test, accuracy) = 18.07,\n",
      "SVC(C=0.025, kernel='linear')\n",
      "Classifier = Linear SVM, Score (test, accuracy) = 20.17,\n",
      "SVC(C=1, gamma=2)\n",
      "Classifier = RBF SVM, Score (test, accuracy) = 21.39,\n",
      "DecisionTreeClassifier(max_depth=5)\n",
      "Classifier = Decision Tree, Score (test, accuracy) = 21.14,\n",
      "RandomForestClassifier(max_depth=5, max_features=1, n_estimators=10)\n",
      "Classifier = Random Forest, Score (test, accuracy) = 22.71,\n",
      "MLPClassifier(alpha=1, max_iter=1000)\n",
      "Classifier = Neural Net, Score (test, accuracy) = 20.02,\n",
      "AdaBoostClassifier()\n",
      "Classifier = AdaBoost, Score (test, accuracy) = 21.44,\n",
      "--------------------------------------------------------------------------------\n",
      "Best --> Classifier = Random Forest, Score (test, accuracy) = 22.71\n"
     ]
    }
   ],
   "source": [
    "names = [\"Nearest Neighbors\", \"Linear SVM\", \"RBF SVM\", #\"Gaussian Process\",\n",
    "         \"Decision Tree\", \"Random Forest\", \"Neural Net\", \"AdaBoost\"]\n",
    "         #\"Naive Bayes\", \"QDA\"]\n",
    "\n",
    "classifiers = [\n",
    "    KNeighborsClassifier(2),\n",
    "    SVC(kernel=\"linear\", C=0.025),\n",
    "    SVC(gamma=2, C=1),\n",
    "#     GaussianProcessClassifier(1.0 * RBF(1.0)),\n",
    "    DecisionTreeClassifier(max_depth=5),\n",
    "    RandomForestClassifier(max_depth=5, n_estimators=10, max_features=1),\n",
    "    MLPClassifier(alpha=1, max_iter=1000),\n",
    "    AdaBoostClassifier(),\n",
    "    GaussianNB(),\n",
    "    QuadraticDiscriminantAnalysis()]\n",
    "\n",
    "# TODO (Apply): All cross-validation\n",
    "\n",
    "max_score = 0.0\n",
    "max_class = ''\n",
    "# iterate over classifiers\n",
    "for name, clf in zip(names, classifiers):\n",
    "    \n",
    "    print(clf)\n",
    "    \n",
    "    clf.fit(X_train, y_train)\n",
    "    score = 100.0 * clf.score(X_test, y_test)\n",
    "    print('Classifier = %s, Score (test, accuracy) = %.2f,' %(name, score))\n",
    "    \n",
    "    if score > max_score:\n",
    "        clf_best = clf\n",
    "        max_score = score\n",
    "        max_class = name\n",
    "\n",
    "print(80*'-' )\n",
    "print('Best --> Classifier = %s, Score (test, accuracy) = %.2f' %(max_class, max_score))"
   ]
  },
  {
   "cell_type": "markdown",
   "id": "4c0005b3",
   "metadata": {},
   "source": [
    "# Different affiliation model"
   ]
  },
  {
   "cell_type": "code",
   "execution_count": 105,
   "id": "2e0a4339",
   "metadata": {},
   "outputs": [],
   "source": [
    "X, y = df_bias['statement'], df_bias['party_affiliation']\n",
    "\n",
    "\n",
    "X_train, X_test, y_train, y_test = (\n",
    "    train_test_split(X, y, test_size=.2)\n",
    ")\n",
    "\n",
    "tfidf_bias = TfidfVectorizer()\n",
    "X_train = tfidf_bias.fit_transform(X_train)\n",
    "\n",
    "X_test = tfidf_bias.transform(X_test)\n"
   ]
  },
  {
   "cell_type": "code",
   "execution_count": 106,
   "id": "d0fc2ea2",
   "metadata": {},
   "outputs": [
    {
     "data": {
      "text/plain": [
       "SVC(C=1, gamma=2)"
      ]
     },
     "execution_count": 106,
     "metadata": {},
     "output_type": "execute_result"
    }
   ],
   "source": [
    "bias_model = SVC(gamma=2, C=1)\n",
    "bias_model.fit(X_train, y_train)"
   ]
  },
  {
   "cell_type": "code",
   "execution_count": 108,
   "id": "f9d60696",
   "metadata": {},
   "outputs": [
    {
     "data": {
      "text/plain": [
       "0.6509023024268824"
      ]
     },
     "execution_count": 108,
     "metadata": {},
     "output_type": "execute_result"
    }
   ],
   "source": [
    "(bias_model.predict(X_test) == y_test).mean()"
   ]
  },
  {
   "cell_type": "code",
   "execution_count": 114,
   "id": "274f9e46",
   "metadata": {},
   "outputs": [],
   "source": [
    "def vectorize_2(claim):\n",
    "    tokenized = tfidf_bias.transform([claim])\n",
    "    \n",
    "    prediction = bias_model.predict(tokenized)\n",
    "\n",
    "    sentiment = NER_sentiment.get_sentiment(claim)\n",
    "    \n",
    "    return [prediction, sentiment]"
   ]
  },
  {
   "cell_type": "code",
   "execution_count": 119,
   "id": "c9710491",
   "metadata": {},
   "outputs": [
    {
     "name": "stdout",
     "output_type": "stream",
     "text": [
      "KNeighborsClassifier(n_neighbors=2)\n",
      "Classifier = Nearest Neighbors, Score (test, accuracy) = 19.82,\n",
      "SVC(C=0.025, kernel='linear')\n"
     ]
    },
    {
     "name": "stderr",
     "output_type": "stream",
     "text": [
      "/opt/conda/lib/python3.9/site-packages/sklearn/utils/validation.py:673: VisibleDeprecationWarning: Creating an ndarray from ragged nested sequences (which is a list-or-tuple of lists-or-tuples-or ndarrays with different lengths or shapes) is deprecated. If you meant to do this, you must specify 'dtype=object' when creating the ndarray.\n",
      "  array = np.asarray(array, order=order, dtype=dtype)\n",
      "/opt/conda/lib/python3.9/site-packages/sklearn/utils/validation.py:63: FutureWarning: Arrays of bytes/strings is being converted to decimal numbers if dtype='numeric'. This behavior is deprecated in 0.24 and will be removed in 1.1 (renaming of 0.26). Please convert your data to numeric values explicitly instead.\n",
      "  return f(*args, **kwargs)\n",
      "/opt/conda/lib/python3.9/site-packages/sklearn/utils/validation.py:673: VisibleDeprecationWarning: Creating an ndarray from ragged nested sequences (which is a list-or-tuple of lists-or-tuples-or ndarrays with different lengths or shapes) is deprecated. If you meant to do this, you must specify 'dtype=object' when creating the ndarray.\n",
      "  array = np.asarray(array, order=order, dtype=dtype)\n",
      "/opt/conda/lib/python3.9/site-packages/sklearn/utils/validation.py:63: FutureWarning: Arrays of bytes/strings is being converted to decimal numbers if dtype='numeric'. This behavior is deprecated in 0.24 and will be removed in 1.1 (renaming of 0.26). Please convert your data to numeric values explicitly instead.\n",
      "  return f(*args, **kwargs)\n"
     ]
    },
    {
     "name": "stdout",
     "output_type": "stream",
     "text": [
      "Classifier = Linear SVM, Score (test, accuracy) = 21.39,\n",
      "SVC(C=1, gamma=2)\n",
      "Classifier = RBF SVM, Score (test, accuracy) = 21.58,\n",
      "DecisionTreeClassifier(max_depth=5)\n",
      "Classifier = Decision Tree, Score (test, accuracy) = 21.24,\n",
      "RandomForestClassifier(max_depth=5, max_features=1, n_estimators=10)\n",
      "Classifier = Random Forest, Score (test, accuracy) = 21.19,\n",
      "MLPClassifier(alpha=1, max_iter=1000)\n"
     ]
    },
    {
     "name": "stderr",
     "output_type": "stream",
     "text": [
      "/opt/conda/lib/python3.9/site-packages/sklearn/utils/validation.py:673: VisibleDeprecationWarning: Creating an ndarray from ragged nested sequences (which is a list-or-tuple of lists-or-tuples-or ndarrays with different lengths or shapes) is deprecated. If you meant to do this, you must specify 'dtype=object' when creating the ndarray.\n",
      "  array = np.asarray(array, order=order, dtype=dtype)\n",
      "/opt/conda/lib/python3.9/site-packages/sklearn/utils/validation.py:63: FutureWarning: Arrays of bytes/strings is being converted to decimal numbers if dtype='numeric'. This behavior is deprecated in 0.24 and will be removed in 1.1 (renaming of 0.26). Please convert your data to numeric values explicitly instead.\n",
      "  return f(*args, **kwargs)\n",
      "/opt/conda/lib/python3.9/site-packages/sklearn/utils/validation.py:673: VisibleDeprecationWarning: Creating an ndarray from ragged nested sequences (which is a list-or-tuple of lists-or-tuples-or ndarrays with different lengths or shapes) is deprecated. If you meant to do this, you must specify 'dtype=object' when creating the ndarray.\n",
      "  array = np.asarray(array, order=order, dtype=dtype)\n"
     ]
    },
    {
     "name": "stdout",
     "output_type": "stream",
     "text": [
      "Classifier = Neural Net, Score (test, accuracy) = 21.14,\n",
      "AdaBoostClassifier()\n",
      "Classifier = AdaBoost, Score (test, accuracy) = 21.00,\n",
      "--------------------------------------------------------------------------------\n",
      "Best --> Classifier = RBF SVM, Score (test, accuracy) = 21.58\n"
     ]
    },
    {
     "name": "stderr",
     "output_type": "stream",
     "text": [
      "/opt/conda/lib/python3.9/site-packages/sklearn/utils/validation.py:673: VisibleDeprecationWarning: Creating an ndarray from ragged nested sequences (which is a list-or-tuple of lists-or-tuples-or ndarrays with different lengths or shapes) is deprecated. If you meant to do this, you must specify 'dtype=object' when creating the ndarray.\n",
      "  array = np.asarray(array, order=order, dtype=dtype)\n"
     ]
    }
   ],
   "source": [
    "names = [\"Nearest Neighbors\", \"Linear SVM\", \"RBF SVM\", #\"Gaussian Process\",\n",
    "         \"Decision Tree\", \"Random Forest\", \"Neural Net\", \"AdaBoost\"]\n",
    "         #\"Naive Bayes\", \"QDA\"]\n",
    "\n",
    "classifiers = [\n",
    "    KNeighborsClassifier(2),\n",
    "    SVC(kernel=\"linear\", C=0.025),\n",
    "    SVC(gamma=2, C=1),\n",
    "#     GaussianProcessClassifier(1.0 * RBF(1.0)),\n",
    "    DecisionTreeClassifier(max_depth=5),\n",
    "    RandomForestClassifier(max_depth=5, n_estimators=10, max_features=1),\n",
    "    MLPClassifier(alpha=1, max_iter=1000),\n",
    "    AdaBoostClassifier(),\n",
    "    GaussianNB(),\n",
    "    QuadraticDiscriminantAnalysis()]\n",
    "\n",
    "df['vectorized_2'] = df['statement'].apply(vectorize_2)\n",
    "\n",
    "X, y = df['vectorized_2'].to_list(), df['label']\n",
    "\n",
    "\n",
    "X_train, X_test, y_train, y_test = (\n",
    "    train_test_split(X, y, test_size=.2)\n",
    ")\n",
    "\n",
    "max_score = 0.0\n",
    "max_class = ''\n",
    "# iterate over classifiers\n",
    "for name, clf in zip(names, classifiers):\n",
    "    \n",
    "    print(clf)\n",
    "    \n",
    "    clf.fit(X_train, y_train)\n",
    "    score = 100.0 * clf.score(X_test, y_test)\n",
    "    print('Classifier = %s, Score (test, accuracy) = %.2f,' %(name, score))\n",
    "    \n",
    "    if score > max_score:\n",
    "        clf_best = clf\n",
    "        max_score = score\n",
    "        max_class = name\n",
    "\n",
    "print(80*'-' )\n",
    "print('Best --> Classifier = %s, Score (test, accuracy) = %.2f' %(max_class, max_score))"
   ]
  },
  {
   "cell_type": "code",
   "execution_count": null,
   "id": "e058a41b",
   "metadata": {},
   "outputs": [],
   "source": []
  }
 ],
 "metadata": {
  "kernelspec": {
   "display_name": "Python 3 (ipykernel)",
   "language": "python",
   "name": "python3"
  },
  "language_info": {
   "codemirror_mode": {
    "name": "ipython",
    "version": 3
   },
   "file_extension": ".py",
   "mimetype": "text/x-python",
   "name": "python",
   "nbconvert_exporter": "python",
   "pygments_lexer": "ipython3",
   "version": "3.9.5"
  }
 },
 "nbformat": 4,
 "nbformat_minor": 5
}
